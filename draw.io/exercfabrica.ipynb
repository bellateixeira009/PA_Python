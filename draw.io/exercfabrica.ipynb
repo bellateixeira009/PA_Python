{
  "nbformat": 4,
  "nbformat_minor": 0,
  "metadata": {
    "colab": {
      "provenance": [],
      "authorship_tag": "ABX9TyNRlKYqLmwjY6vtBzrLPrLv",
      "include_colab_link": true
    },
    "kernelspec": {
      "name": "python3",
      "display_name": "Python 3"
    },
    "language_info": {
      "name": "python"
    }
  },
  "cells": [
    {
      "cell_type": "markdown",
      "metadata": {
        "id": "view-in-github",
        "colab_type": "text"
      },
      "source": [
        "<a href=\"https://colab.research.google.com/github/bellateixeira009/PA_Python/blob/main/draw.io/exercfabrica.ipynb\" target=\"_parent\"><img src=\"https://colab.research.google.com/assets/colab-badge.svg\" alt=\"Open In Colab\"/></a>"
      ]
    },
    {
      "cell_type": "code",
      "execution_count": null,
      "metadata": {
        "id": "QRzKBlMsljCM"
      },
      "outputs": [],
      "source": [
        "#RESOLUÇÃO\n",
        "## o custo ao consumidor é a soma entre o custo de fábrica com impostos e a percentagem\n",
        "### do distruidor. Então, o primeiro passo deve ser coletar o custo de fábrica e somá-lo\n",
        "#### com o valor do imposto. Quando obter o valor após o imposto, deve-se somar o\n",
        "##### resultado com o custo do distribuidor, cassim, calculando o custo final ao consumidor.\n",
        "\n",
        "\n",
        "#solicitando o custo de fábrica\n",
        "cf = float(input('Informe o custo de fábrica do carro: R$' ))\n",
        "\n",
        "#percentagem do imposto e do distribuidor\n",
        "Pimp = 45 / 100\n",
        "Pdis = 28/ 100\n",
        "\n",
        "#cálculo dos impostos (45% sobre o custo de fábrica)\n",
        "imp = cf * Pimp\n",
        "\n",
        "#soma dos custos de fábrica com o valor dos impostos)\n",
        "custos_imp = cf + imp\n",
        "\n",
        "#cálculo do distribuidor (28% sobre os custos com impostos)\n",
        "dis = custos_imp * Pdis\n",
        "\n",
        "#Cálculo do custo ao consumidor (custos com impostos mais a distribuição)\n",
        "custo_CON = custos_imp + dis\n",
        "\n",
        "\n",
        "print('imposto: ', imp)\n",
        "print('cutos sobre os impostos: ', custos_imp)\n",
        "print('distribuição: ', dis)\n",
        "print('O custo ao consumidor é: ', custo_CON)"
      ]
    }
  ]
}