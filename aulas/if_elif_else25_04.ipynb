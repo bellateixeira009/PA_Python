{
  "nbformat": 4,
  "nbformat_minor": 0,
  "metadata": {
    "colab": {
      "provenance": [],
      "authorship_tag": "ABX9TyM5uQtz9AYpIFNbhwt5d+ih",
      "include_colab_link": true
    },
    "kernelspec": {
      "name": "python3",
      "display_name": "Python 3"
    },
    "language_info": {
      "name": "python"
    }
  },
  "cells": [
    {
      "cell_type": "markdown",
      "metadata": {
        "id": "view-in-github",
        "colab_type": "text"
      },
      "source": [
        "<a href=\"https://colab.research.google.com/github/bellateixeira009/PA_Python/blob/main/aulas/if_elif_else25_04.ipynb\" target=\"_parent\"><img src=\"https://colab.research.google.com/assets/colab-badge.svg\" alt=\"Open In Colab\"/></a>"
      ]
    },
    {
      "cell_type": "code",
      "execution_count": 4,
      "metadata": {
        "colab": {
          "base_uri": "https://localhost:8080/"
        },
        "id": "mKhrfueHoNFZ",
        "outputId": "10e43729-3c56-407b-8852-a6e66621aef5"
      },
      "outputs": [
        {
          "output_type": "stream",
          "name": "stdout",
          "text": [
            "Digite um número: 5\n",
            "O número é impar\n"
          ]
        }
      ],
      "source": [
        "#verificando se o número é impar ou par em phyton sem if else\n",
        "valor = int(input('Digite um número: '))\n",
        "\n",
        "par = valor % 2 == 0\n",
        "\n",
        "if par:\n",
        "  print(\"O número é par\")\n",
        "\n",
        "else:\n",
        "  print(\"O número é impar\")\n",
        "  c"
      ]
    },
    {
      "cell_type": "code",
      "source": [
        "#três lados de um tiângulo\n",
        "l1 = int(input('Qual a medida do 1° lado?'))\n",
        "l2 = int(input('Qual a medida do 2° lado?'))\n",
        "l3 = int(input('Qual a medida do 3° lado?'))\n",
        "\n",
        "#A)\n",
        "triangulo = (l1+l2>l3 and l1+l3>l2 and l3+l2>l1 )\n",
        "if triangulo:\n",
        "  print(\"Com esses lados é possível formar um triângulo\")\n",
        "else:\n",
        "  print(\"Não é possível formar triângulo\")\n",
        "\n",
        "#B)\n",
        "equilatero = (l1 == l2 == l3)\n",
        "isosceles = (l1 == l2 != l3 or l1 == l3 != l2 or l3 == l2 != l1)\n",
        "escaleno = (l1 != l2 != l3)\n",
        "\n",
        "if equilatero:\n",
        "  print(\"O triângulo é equilátero\")\n",
        "else:\n",
        "  print(\"O triângulo NÃO é equilátero\")\n",
        "\n",
        "\n",
        "if isosceles:\n",
        "  print(\"O triângulo é isósceles\")\n",
        "else:\n",
        "  print(\"O triângulo NÃO é isósceles\")\n",
        "\n",
        "if escaleno:\n",
        "  print(\"O triângulo é escaleno\")\n",
        "else:\n",
        "  print(\"O triângulo NÃO é escaleno\")\n",
        "\n"
      ],
      "metadata": {
        "colab": {
          "base_uri": "https://localhost:8080/"
        },
        "id": "yLdfcqdJokpG",
        "outputId": "ff8fec24-8d44-4a3a-f3e8-9c2048df5a22"
      },
      "execution_count": 5,
      "outputs": [
        {
          "output_type": "stream",
          "name": "stdout",
          "text": [
            "Qual a medida do 1° lado?5\n",
            "Qual a medida do 2° lado?7\n",
            "Qual a medida do 3° lado?6\n",
            "Com esses lados é possível formar um triângulo\n",
            "O triângulo NÃO é equilátero\n",
            "O triângulo NÃO é isósceles\n",
            "O triângulo é escaleno\n"
          ]
        }
      ]
    },
    {
      "cell_type": "code",
      "source": [
        "#informando IMC\n",
        "peso = float(input(\"Informe o seu peso: \"))\n",
        "alt = float(input(\"Informe a sua altura\"))\n",
        "\n",
        "IMC = peso/alt**2\n",
        "\n",
        "abaixo = IMC < 18.5\n",
        "normal = 18.5 <= IMC < 25\n",
        "sobrepeso = 25 <= IMC < 30\n",
        "obesidade1 = 30 <= IMC < 35\n",
        "obesidade2 = 35 <= IMC < 40\n",
        "obesidade3 = IMC >= 40\n",
        "\n",
        "print(f\"O seu IMC é: {IMC:2.2f}\")\n",
        "\n",
        "if abaixo:\n",
        "  print(\"Seu IMC está abaixo do peso\")\n",
        "else:\n",
        "  print(\"Seu IMC não se classifica como abaixo do peso\")\n",
        "\n",
        "if normal:\n",
        "  print(\"Seu IMC está normal\")\n",
        "else:\n",
        "  print(\"Seu IMC não se classifica como normal\")\n",
        "\n",
        "if sobrepeso:\n",
        "  print(\"Seu IMC está no sobrepeso\")\n",
        "else:\n",
        "  print(\"Seu IMC não se classifica como sobrepeso\")\n",
        "\n",
        "if obesidade1:\n",
        "  print(\"Seu IMC está no 1° grau de obesidade\")\n",
        "else:\n",
        "  print(\"Seu IMC não se classifica no 1° grau de obesidade\")\n",
        "\n",
        "if obesidade2:\n",
        "  print(\"Seu IMC está no 2° grau de obesidade\")\n",
        "else:\n",
        "  print(\"Seu IMC não se classifica no 2° grau de obesidade\")\n",
        "\n",
        "if obesidade3:\n",
        "  print(\"Seu IMC está no 3° grau de obesidade\")\n",
        "else:\n",
        "  print(\"Seu IMC não se classifica no 3° grau de obesidade\")\n"
      ],
      "metadata": {
        "colab": {
          "base_uri": "https://localhost:8080/"
        },
        "id": "3h87T7CfyMNq",
        "outputId": "d4f94afe-81f9-49fc-ce00-f13e4a870a0e"
      },
      "execution_count": 9,
      "outputs": [
        {
          "output_type": "stream",
          "name": "stdout",
          "text": [
            "Informe o seu peso: 50\n",
            "Informe a sua altura1.56\n",
            "O seu IMC é: 20.55\n",
            "Seu IMC não se classifica como abaixo do peso\n",
            "Seu IMC está normal\n",
            "Seu IMC não se classifica como sobrepeso\n",
            "Seu IMC não se classifica no 1° grau de obesidade\n",
            "Seu IMC não se classifica no 2° grau de obesidade\n",
            "Seu IMC não se classifica no 3° grau de obesidade\n"
          ]
        }
      ]
    },
    {
      "cell_type": "code",
      "source": [
        "#permissão para competir\n",
        "alt = float(input(\"Informe a sua altura: \"))\n",
        "idade = int(input(\"Informe sua idade: \"))\n",
        "\n",
        "permissao = (alt >= 1.75 and idade >= 18 )\n",
        "\n",
        "if permissao:\n",
        "  print(\"Você tem permissao para competir\")\n",
        "else:\n",
        "  print(\"Você NÃO tem permissao para competir\")"
      ],
      "metadata": {
        "colab": {
          "base_uri": "https://localhost:8080/"
        },
        "collapsed": true,
        "id": "rKM2UJhw5KYK",
        "outputId": "c0ec3bb8-a22e-494a-c406-692ee5cfbb00"
      },
      "execution_count": 10,
      "outputs": [
        {
          "output_type": "stream",
          "name": "stdout",
          "text": [
            "Informe a sua altura: 1.77\n",
            "Informe sua idade: 21\n",
            "Você tem permissao para competir\n"
          ]
        }
      ]
    },
    {
      "cell_type": "code",
      "source": [],
      "metadata": {
        "id": "kkqqCICG079F"
      },
      "execution_count": null,
      "outputs": []
    }
  ]
}