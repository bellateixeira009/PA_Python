{
  "nbformat": 4,
  "nbformat_minor": 0,
  "metadata": {
    "colab": {
      "provenance": [],
      "authorship_tag": "ABX9TyPQxiz90kmXAzkWNAFPeQCn",
      "include_colab_link": true
    },
    "kernelspec": {
      "name": "python3",
      "display_name": "Python 3"
    },
    "language_info": {
      "name": "python"
    }
  },
  "cells": [
    {
      "cell_type": "markdown",
      "metadata": {
        "id": "view-in-github",
        "colab_type": "text"
      },
      "source": [
        "<a href=\"https://colab.research.google.com/github/bellateixeira009/PA_Python/blob/main/aula_PA/exer_op%26va.ipynb\" target=\"_parent\"><img src=\"https://colab.research.google.com/assets/colab-badge.svg\" alt=\"Open In Colab\"/></a>"
      ]
    },
    {
      "cell_type": "markdown",
      "source": [
        "Exercício\n",
        "\n",
        "• Criar 2 Variáveis :\\\n",
        "\n",
        "Entrada\\\n",
        "num1\\\n",
        "num2\n",
        "\n",
        "Processamento\\\n",
        "soma = num1 + num2\n",
        "\n"
      ],
      "metadata": {
        "id": "UVmgr0JW94qm"
      }
    },
    {
      "cell_type": "code",
      "execution_count": 3,
      "metadata": {
        "colab": {
          "base_uri": "https://localhost:8080/"
        },
        "id": "j3lVF8BQ93Yz",
        "outputId": "76168446-fbc8-4757-dc74-b7edd3cb8390"
      },
      "outputs": [
        {
          "output_type": "stream",
          "name": "stdout",
          "text": [
            "Digite um número:35\n",
            "Digite o segundo número27\n",
            "Soma = 62 / Subtração = 8 / Multiplicação = 945 / Divisão = 1.2962962962962963\n"
          ]
        }
      ],
      "source": [
        "#1\n",
        "num1 = int(input('Digite um número:'))\n",
        "num2 = int(input('Digite o segundo número'))\n",
        "\n",
        "soma =  num1 + num2\n",
        "sub = num1 - num2\n",
        "mul = num1 * num2\n",
        "div = num1 / num2\n",
        "\n",
        "print('Soma =', soma, '/ Subtração =', sub, '/ Multiplicação =', mul, '/ Divisão =', div)"
      ]
    }
  ]
}