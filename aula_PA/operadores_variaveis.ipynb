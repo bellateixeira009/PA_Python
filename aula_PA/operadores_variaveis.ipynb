{
  "nbformat": 4,
  "nbformat_minor": 0,
  "metadata": {
    "colab": {
      "provenance": [],
      "authorship_tag": "ABX9TyNt72d2lEtpqMuWPKkidhAB",
      "include_colab_link": true
    },
    "kernelspec": {
      "name": "python3",
      "display_name": "Python 3"
    },
    "language_info": {
      "name": "python"
    }
  },
  "cells": [
    {
      "cell_type": "markdown",
      "metadata": {
        "id": "view-in-github",
        "colab_type": "text"
      },
      "source": [
        "<a href=\"https://colab.research.google.com/github/bellateixeira009/PA_Python/blob/main/aula_PA/operadores_variaveis.ipynb\" target=\"_parent\"><img src=\"https://colab.research.google.com/assets/colab-badge.svg\" alt=\"Open In Colab\"/></a>"
      ]
    },
    {
      "cell_type": "markdown",
      "source": [
        "Aula de Programação e Algoritmos 24/fev ♥"
      ],
      "metadata": {
        "id": "OOhYEwU7xKqn"
      }
    },
    {
      "cell_type": "markdown",
      "source": [
        "## *Operadores*"
      ],
      "metadata": {
        "id": "xGc9S2PYxtw2"
      }
    },
    {
      "cell_type": "code",
      "source": [
        "# Soma\n",
        "1 + 1"
      ],
      "metadata": {
        "colab": {
          "base_uri": "https://localhost:8080/"
        },
        "id": "gXOklT8WxS8R",
        "outputId": "c3c8000c-f7d5-435a-a2ca-a5062b8b6c37"
      },
      "execution_count": 2,
      "outputs": [
        {
          "output_type": "execute_result",
          "data": {
            "text/plain": [
              "2"
            ]
          },
          "metadata": {},
          "execution_count": 2
        }
      ]
    },
    {
      "cell_type": "code",
      "source": [
        "# Subtração\n",
        "5 - 3"
      ],
      "metadata": {
        "colab": {
          "base_uri": "https://localhost:8080/"
        },
        "id": "A2ml4UZ3xlLY",
        "outputId": "6c02f598-7d89-4cd2-93c5-4ecfd219e699"
      },
      "execution_count": 3,
      "outputs": [
        {
          "output_type": "execute_result",
          "data": {
            "text/plain": [
              "2"
            ]
          },
          "metadata": {},
          "execution_count": 3
        }
      ]
    },
    {
      "cell_type": "code",
      "source": [
        "# Multiplicação\n",
        "7 * 7"
      ],
      "metadata": {
        "colab": {
          "base_uri": "https://localhost:8080/"
        },
        "id": "QKI_Mwtix4ID",
        "outputId": "02b3b7c3-5e31-4db1-9464-a9063050c449"
      },
      "execution_count": 4,
      "outputs": [
        {
          "output_type": "execute_result",
          "data": {
            "text/plain": [
              "49"
            ]
          },
          "metadata": {},
          "execution_count": 4
        }
      ]
    },
    {
      "cell_type": "code",
      "source": [
        "# Divisão\n",
        "35 / 5"
      ],
      "metadata": {
        "colab": {
          "base_uri": "https://localhost:8080/"
        },
        "id": "XFrf1D4NyDQN",
        "outputId": "dff4dee5-ab03-42cf-ec5e-b3ab9d1ede60"
      },
      "execution_count": 6,
      "outputs": [
        {
          "output_type": "execute_result",
          "data": {
            "text/plain": [
              "7.0"
            ]
          },
          "metadata": {},
          "execution_count": 6
        }
      ]
    },
    {
      "cell_type": "code",
      "source": [
        "# Expoente\n",
        "2 ** 3"
      ],
      "metadata": {
        "colab": {
          "base_uri": "https://localhost:8080/"
        },
        "id": "0SkVsmsEytl6",
        "outputId": "729e7f67-66f9-42d7-b3e2-2d06d0394877"
      },
      "execution_count": 7,
      "outputs": [
        {
          "output_type": "execute_result",
          "data": {
            "text/plain": [
              "8"
            ]
          },
          "metadata": {},
          "execution_count": 7
        }
      ]
    },
    {
      "cell_type": "markdown",
      "source": [
        "# *Variáveis*\n",
        "\n",
        "\n",
        "\n",
        "#    String\n",
        "Nome \"Isabella\"\n",
        "#    Float\n",
        "Altura = 1.56\n",
        "#    Int\n",
        "Idade = 15\n",
        "\n",
        "\n",
        "\n",
        "\n",
        "\n"
      ],
      "metadata": {
        "id": "5ZviZ1FLzJEh"
      }
    },
    {
      "cell_type": "code",
      "source": [
        "soma = 5 + 7\n",
        "print('A soma é =', soma)"
      ],
      "metadata": {
        "colab": {
          "base_uri": "https://localhost:8080/"
        },
        "id": "w5eShvGV28VM",
        "outputId": "160abf01-e98a-4f1f-e0b8-cdb4ccbc29d3"
      },
      "execution_count": 18,
      "outputs": [
        {
          "output_type": "stream",
          "name": "stdout",
          "text": [
            "A soma é = 12\n"
          ]
        }
      ]
    },
    {
      "cell_type": "code",
      "source": [
        "soma = soma + 2\n",
        "print('A soma é =', soma)"
      ],
      "metadata": {
        "colab": {
          "base_uri": "https://localhost:8080/"
        },
        "id": "MU3fB7mD3VYw",
        "outputId": "57d8137d-a262-45d9-eea8-2711e70d657a"
      },
      "execution_count": 21,
      "outputs": [
        {
          "output_type": "stream",
          "name": "stdout",
          "text": [
            "A soma é = 14\n"
          ]
        }
      ]
    },
    {
      "cell_type": "code",
      "source": [
        "soma = soma - 5\n",
        "print('A soma agora é =', soma)"
      ],
      "metadata": {
        "colab": {
          "base_uri": "https://localhost:8080/"
        },
        "id": "zYGE-mEn3ous",
        "outputId": "47e948dc-1e03-4bad-c605-ef05da15f5b8"
      },
      "execution_count": 22,
      "outputs": [
        {
          "output_type": "stream",
          "name": "stdout",
          "text": [
            "A soma agora é = 9\n"
          ]
        }
      ]
    },
    {
      "cell_type": "code",
      "source": [
        "soma = soma +2-5*8/3\n",
        "print('O resultado é =', soma)"
      ],
      "metadata": {
        "colab": {
          "base_uri": "https://localhost:8080/"
        },
        "id": "_CEFf7Gu3z0K",
        "outputId": "e3573d7b-49ca-4f07-8602-a2c49efd3bdc"
      },
      "execution_count": 23,
      "outputs": [
        {
          "output_type": "stream",
          "name": "stdout",
          "text": [
            "O resultado é = -2.333333333333334\n"
          ]
        }
      ]
    },
    {
      "cell_type": "code",
      "source": [
        "conta = int\n",
        "conta = 7 * 5 * (4 + 2)\n",
        "print('O resultado é =', conta)"
      ],
      "metadata": {
        "colab": {
          "base_uri": "https://localhost:8080/"
        },
        "id": "atT0WhqC3_kN",
        "outputId": "3d8f8398-d123-415e-847f-26f8e56eefaa"
      },
      "execution_count": 32,
      "outputs": [
        {
          "output_type": "stream",
          "name": "stdout",
          "text": [
            "O resultado é = 210\n"
          ]
        }
      ]
    },
    {
      "cell_type": "code",
      "source": [
        "# Calcular a área do quadrado\n",
        "\n",
        "# Entrada\n",
        "lado = int(input('Qual a medida do lado do quadrado?'))\n",
        "\n",
        "# Processamento\n",
        "area = lado * lado\n",
        "\n",
        "# Saída\n",
        "print('Então a área do quadrado é =', area)"
      ],
      "metadata": {
        "colab": {
          "base_uri": "https://localhost:8080/"
        },
        "id": "8w3WYL_o5ykU",
        "outputId": "5cfa7756-8be9-4292-9a88-43cf1a2933d7"
      },
      "execution_count": 34,
      "outputs": [
        {
          "output_type": "stream",
          "name": "stdout",
          "text": [
            "Qual a medida do lado do quadrado?9\n",
            "Então a área do quadrado é = 81\n"
          ]
        }
      ]
    }
  ]
}