{
  "nbformat": 4,
  "nbformat_minor": 0,
  "metadata": {
    "colab": {
      "provenance": [],
      "include_colab_link": true
    },
    "kernelspec": {
      "name": "python3",
      "display_name": "Python 3"
    },
    "language_info": {
      "name": "python"
    }
  },
  "cells": [
    {
      "cell_type": "markdown",
      "metadata": {
        "id": "view-in-github",
        "colab_type": "text"
      },
      "source": [
        "<a href=\"https://colab.research.google.com/github/bellateixeira009/PA_Python/blob/main/aulas/C%C3%B3pia_de_atividades_aula_22_08.ipynb\" target=\"_parent\"><img src=\"https://colab.research.google.com/assets/colab-badge.svg\" alt=\"Open In Colab\"/></a>"
      ]
    },
    {
      "cell_type": "markdown",
      "source": [
        "**Exercícios com for, while, listas, strings e dicionários**"
      ],
      "metadata": {
        "id": "5KtSL9tuj-zo"
      }
    },
    {
      "cell_type": "markdown",
      "source": [
        "1) Soma dos números de uma lista\n",
        "\n",
        "Dada a lista numeros = [3, 7, 2, 8, 10], use um for para calcular a soma de todos os elementos."
      ],
      "metadata": {
        "id": "ZZZicFxfkEEg"
      }
    },
    {
      "cell_type": "code",
      "source": [
        "numeros = [3, 7, 2, 8, 10]\n",
        "soma = 0\n",
        "for numero in numeros:\n",
        "    soma += numero\n",
        "print(soma)"
      ],
      "metadata": {
        "colab": {
          "base_uri": "https://localhost:8080/"
        },
        "id": "mr8JqijUdvLS",
        "outputId": "627e5861-1818-441b-c596-24d48f2bcb31"
      },
      "execution_count": 2,
      "outputs": [
        {
          "output_type": "stream",
          "name": "stdout",
          "text": [
            "30\n"
          ]
        }
      ]
    },
    {
      "cell_type": "markdown",
      "source": [
        "2) Contagem de vogais em uma string\n",
        "\n",
        "Peça uma palavra ao usuário e use um for para contar quantas vogais (a, e, i, o, u) existem."
      ],
      "metadata": {
        "id": "Xw8gph7LkL6R"
      }
    },
    {
      "cell_type": "code",
      "source": [
        "palavra = input(\"Digite uma palavra: \")\n",
        "vogais = \"aeiouAEIOU\"\n",
        "contador = 0\n",
        "for letra in palavra:\n",
        "    if letra in vogais:\n",
        "        contador += 1\n",
        "        print(\"Essas são as vogais\", letra)\n",
        "print(\"Exitem\", contador, \"Letras\")"
      ],
      "metadata": {
        "colab": {
          "base_uri": "https://localhost:8080/"
        },
        "id": "BtaMoZize2MW",
        "outputId": "a68b102f-e06c-4a9f-b351-b56fde27c6e4"
      },
      "execution_count": 3,
      "outputs": [
        {
          "output_type": "stream",
          "name": "stdout",
          "text": [
            "Digite uma palavra: Bella\n",
            "Essas são as vogais e\n",
            "Essas são as vogais a\n",
            "Exitem 2 Letras\n"
          ]
        }
      ]
    },
    {
      "cell_type": "markdown",
      "source": [],
      "metadata": {
        "id": "irD2xL3xkSDN"
      }
    },
    {
      "cell_type": "markdown",
      "source": [
        "3) Inverter lista usando while\n",
        "\n",
        "Dada a lista nomes = [\"Ana\", \"João\", \"Carlos\", \"Maria\"], use um while para inverter a ordem dos elementos (sem usar reverse() ou slicing)."
      ],
      "metadata": {
        "id": "YfW4Aw8ckZw-"
      }
    },
    {
      "cell_type": "code",
      "source": [
        "nomes = [\"Ana\", \"João\", \"Carlos\", \"Maria\"]\n",
        "inicio = 0\n",
        "fim = len(nomes) - 1\n",
        "while inicio < fim:\n",
        "    nomes[inicio], nomes[fim] = nomes[fim], nomes[inicio]\n",
        "    inicio += 1\n",
        "    fim -= 1\n",
        "print(nomes)"
      ],
      "metadata": {
        "colab": {
          "base_uri": "https://localhost:8080/"
        },
        "id": "XjH_-g8lfzM9",
        "outputId": "c3a50e3c-ee8b-4848-95a1-b38afef41844"
      },
      "execution_count": null,
      "outputs": [
        {
          "output_type": "stream",
          "name": "stdout",
          "text": [
            "['Maria', 'Carlos', 'João', 'Ana']\n"
          ]
        }
      ]
    },
    {
      "cell_type": "markdown",
      "source": [
        "4) Maior número em uma lista\n",
        "\n",
        "Escreva um programa que percorra uma lista de inteiros e encontre o maior valor."
      ],
      "metadata": {
        "id": "cvRuv0PxkkYi"
      }
    },
    {
      "cell_type": "code",
      "source": [
        "numeros = [3, 4, 7, 9, 10, 27, 20, 47]\n",
        "numeros_ordenados = sorted(numeros)\n",
        "maior_numero = numeros_ordenados[-1]\n",
        "print(maior_numero)"
      ],
      "metadata": {
        "colab": {
          "base_uri": "https://localhost:8080/"
        },
        "id": "UVT5a4J7gVYd",
        "outputId": "5315688f-1dfa-4024-f4c9-0d4f3e12d51d"
      },
      "execution_count": 4,
      "outputs": [
        {
          "output_type": "stream",
          "name": "stdout",
          "text": [
            "47\n"
          ]
        }
      ]
    },
    {
      "cell_type": "markdown",
      "source": [
        "5) Remover elementos repetidos de uma lista\n",
        "\n",
        "Usando um for, percorra a lista valores = [1, 2, 2, 3, 4, 4, 5] e crie uma nova lista apenas com elementos únicos."
      ],
      "metadata": {
        "id": "xV6pmOVCkuCm"
      }
    },
    {
      "cell_type": "code",
      "source": [
        "numeros = [1, 2, 2, 3, 4, 4, 5]\n",
        "numeros_unicos = []\n",
        "for numero in numeros:\n",
        "    if numero not in numeros_unicos:\n",
        "        numeros_unicos.append(numero)\n",
        "print(numeros_unicos)"
      ],
      "metadata": {
        "colab": {
          "base_uri": "https://localhost:8080/"
        },
        "id": "34aZ5oG5h2bM",
        "outputId": "aad56861-c2ac-4e91-a966-887c70af5012"
      },
      "execution_count": null,
      "outputs": [
        {
          "output_type": "stream",
          "name": "stdout",
          "text": [
            "[1, 2, 3, 4, 5]\n"
          ]
        }
      ]
    },
    {
      "cell_type": "markdown",
      "source": [
        "6) Verificar se palavra é palíndromo\n",
        "\n",
        "Peça uma palavra ao usuário e use while ou for para verificar se ela é igual de frente para trás (ex.: \"arara\")."
      ],
      "metadata": {
        "id": "_bHj-pkzk2TX"
      }
    },
    {
      "cell_type": "code",
      "source": [
        "palavra = input(\"Digite uma palavra: \")\n",
        "inicio = 0\n",
        "fim = len(palavra) - 1\n",
        "while inicio < fim:\n",
        "    if palavra[inicio] != palavra[fim]:\n",
        "        print(\"A palavra não é um palíndromo\")\n",
        "        break"
      ],
      "metadata": {
        "colab": {
          "base_uri": "https://localhost:8080/"
        },
        "id": "4V3bMw0SjFS3",
        "outputId": "9777643c-a795-47c7-96f7-d20795a1ec6e"
      },
      "execution_count": 6,
      "outputs": [
        {
          "output_type": "stream",
          "name": "stdout",
          "text": [
            "Digite uma palavra: mal\n",
            "A palavra não é um palíndromo\n"
          ]
        }
      ]
    },
    {
      "cell_type": "markdown",
      "source": [
        "7 Contagem regressiva com while\n",
        "\n",
        "Peça ao usuário um número e faça uma contagem regressiva até 0."
      ],
      "metadata": {
        "id": "1PeOPJ3ClC0c"
      }
    },
    {
      "cell_type": "code",
      "source": [
        "numero = input(\"Digite um número: \")\n",
        "numero = int(numero)\n",
        "while numero >= 0:\n",
        "    print(numero)\n",
        "    numero -= 1"
      ],
      "metadata": {
        "colab": {
          "base_uri": "https://localhost:8080/"
        },
        "id": "x_eivdd3j35H",
        "outputId": "1d491e1d-f0ad-42f4-bb82-9c8f387a2772"
      },
      "execution_count": null,
      "outputs": [
        {
          "output_type": "stream",
          "name": "stdout",
          "text": [
            "Digite um número: 50\n",
            "50\n",
            "49\n",
            "48\n",
            "47\n",
            "46\n",
            "45\n",
            "44\n",
            "43\n",
            "42\n",
            "41\n",
            "40\n",
            "39\n",
            "38\n",
            "37\n",
            "36\n",
            "35\n",
            "34\n",
            "33\n",
            "32\n",
            "31\n",
            "30\n",
            "29\n",
            "28\n",
            "27\n",
            "26\n",
            "25\n",
            "24\n",
            "23\n",
            "22\n",
            "21\n",
            "20\n",
            "19\n",
            "18\n",
            "17\n",
            "16\n",
            "15\n",
            "14\n",
            "13\n",
            "12\n",
            "11\n",
            "10\n",
            "9\n",
            "8\n",
            "7\n",
            "6\n",
            "5\n",
            "4\n",
            "3\n",
            "2\n",
            "1\n",
            "0\n"
          ]
        }
      ]
    },
    {
      "cell_type": "markdown",
      "source": [
        "8) Percorrendo um dicionário de notas\n",
        "\n",
        "Dado o dicionário notas = {\"Ana\": 8, \"Carlos\": 7, \"Maria\": 10}, use um for para exibir cada aluno com sua nota."
      ],
      "metadata": {
        "id": "wKkDTzwelK_f"
      }
    },
    {
      "cell_type": "code",
      "source": [
        "notas = {\"Ana\": 8, \"Carlos\": 7, \"Maria\": 10}\n",
        "for aluno, nota in notas.items():\n",
        "    print(aluno, nota)"
      ],
      "metadata": {
        "colab": {
          "base_uri": "https://localhost:8080/"
        },
        "id": "NAKvVqTqlX-L",
        "outputId": "ba332c7c-88fb-46b2-c7ea-ad96a4935301"
      },
      "execution_count": null,
      "outputs": [
        {
          "output_type": "stream",
          "name": "stdout",
          "text": [
            "Ana 8\n",
            "Carlos 7\n",
            "Maria 10\n"
          ]
        }
      ]
    },
    {
      "cell_type": "markdown",
      "source": [
        "9)Filtrar números pares de uma lista\n",
        "\n",
        "Dada a lista numeros = [10, 21, 32, 43, 54], use um for para criar uma nova lista contendo apenas os pares."
      ],
      "metadata": {
        "id": "xrXKbCl7lUQg"
      }
    },
    {
      "cell_type": "code",
      "source": [
        "numeros = [10, 21, 32, 43, 54]\n",
        "numeros_pares = []\n",
        "for numero in numeros:\n",
        "    if numero % 2 == 0:\n",
        "        numeros_pares.append(numero)\n",
        "print(numeros_pares)"
      ],
      "metadata": {
        "colab": {
          "base_uri": "https://localhost:8080/"
        },
        "id": "CKVQhns2sJS0",
        "outputId": "7759d0bc-357e-4c5f-9bbe-618640e72946"
      },
      "execution_count": null,
      "outputs": [
        {
          "output_type": "stream",
          "name": "stdout",
          "text": [
            "[10, 32, 54]\n"
          ]
        }
      ]
    },
    {
      "cell_type": "markdown",
      "source": [
        "10) Contador de palavras em uma frase\n",
        "\n",
        "Peça ao usuário uma frase, divida em palavras (split()) e use um dicionário para contar quantas vezes cada palavra aparece."
      ],
      "metadata": {
        "id": "9pzoi0GxlcO8"
      }
    },
    {
      "cell_type": "code",
      "source": [
        "frase = input(\"Digite uma frase: \")\n",
        "palavras = frase.split()\n",
        "contador = {}\n",
        "for palavra in palavras:\n",
        "    if palavra in contador:\n",
        "        contador[palavra] += 1\n",
        "    else:\n",
        "        contador[palavra] = 1\n",
        "print(contador)"
      ],
      "metadata": {
        "colab": {
          "base_uri": "https://localhost:8080/"
        },
        "id": "54MMZOFnsR9y",
        "outputId": "cc6de18e-a61e-4e22-f090-f92d3d08a295"
      },
      "execution_count": 7,
      "outputs": [
        {
          "output_type": "stream",
          "name": "stdout",
          "text": [
            "Digite uma frase: Viva la vida\n",
            "{'Viva': 1, 'la': 1, 'vida': 1}\n"
          ]
        }
      ]
    }
  ]
}