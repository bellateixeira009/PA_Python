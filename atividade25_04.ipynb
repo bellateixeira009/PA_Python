{
  "nbformat": 4,
  "nbformat_minor": 0,
  "metadata": {
    "colab": {
      "provenance": [],
      "authorship_tag": "ABX9TyMaYlweVCY7MlurAJ2faS02",
      "include_colab_link": true
    },
    "kernelspec": {
      "name": "python3",
      "display_name": "Python 3"
    },
    "language_info": {
      "name": "python"
    }
  },
  "cells": [
    {
      "cell_type": "markdown",
      "metadata": {
        "id": "view-in-github",
        "colab_type": "text"
      },
      "source": [
        "<a href=\"https://colab.research.google.com/github/bellateixeira009/PA_Python/blob/main/atividade25_04.ipynb\" target=\"_parent\"><img src=\"https://colab.research.google.com/assets/colab-badge.svg\" alt=\"Open In Colab\"/></a>"
      ]
    },
    {
      "cell_type": "code",
      "execution_count": null,
      "metadata": {
        "colab": {
          "base_uri": "https://localhost:8080/"
        },
        "id": "mKhrfueHoNFZ",
        "outputId": "192a6991-38e3-4cfb-856e-b73c4b8edc01"
      },
      "outputs": [
        {
          "output_type": "stream",
          "name": "stdout",
          "text": [
            "Digite um número: 3\n",
            "O número é par? False o número digitado foi: 3\n",
            "O número é ímpar? True o número digitado foi: 3\n"
          ]
        }
      ],
      "source": [
        "#verificando se o número é impar ou par em phyton sem if else\n",
        "valor = int(input('Digite um número: '))\n",
        "\n",
        "par = (valor%2 == 0)\n",
        "impar = (valor%2 == 1)\n",
        "\n",
        "print(\"O número é par?\", par, \"o número digitado foi:\", valor )\n",
        "print(\"O número é ímpar?\", impar, \"o número digitado foi:\", valor )"
      ]
    },
    {
      "cell_type": "code",
      "source": [
        "#três lados de um tiângulo\n",
        "l1 = int(input('Qual a medida do 1° lado?'))\n",
        "l2 = int(input('Qual a medida do 2° lado?'))\n",
        "l3 = int(input('Qual a medida do 3° lado?'))\n",
        "\n",
        "#A)\n",
        "triangulo = (l1+l2>l3 and l1+l3>l2 and l3+l2>l1 )\n",
        "print(\"Com esses lados dá para formar um triângulo?\", triangulo)\n",
        "\n",
        "#B)\n",
        "equilatero = (l1 == l2 == l3)\n",
        "isosceles = (l1 == l2 != l3 or l1 == l3 != l2 or l3 == l2 != l1)\n",
        "escaleno = (l1 != l2 != l3)\n",
        "print(\"O triângulo é equilátero?\", equilatero )\n",
        "print(\"O triângulo é isósceles?\", isosceles )\n",
        "print(\"O triângulo é escaleno?\", escaleno )\n",
        "\n"
      ],
      "metadata": {
        "colab": {
          "base_uri": "https://localhost:8080/"
        },
        "id": "yLdfcqdJokpG",
        "outputId": "51b01466-3e9f-4293-bac9-a984f09420d5"
      },
      "execution_count": null,
      "outputs": [
        {
          "output_type": "stream",
          "name": "stdout",
          "text": [
            "Qual a medida do 1° lado?6\n",
            "Qual a medida do 2° lado?7\n",
            "Qual a medida do 3° lado?5\n",
            "Com esses lados dá para formar um triângulo? True\n",
            "O triângulo é equilátero? False\n",
            "O triângulo é isósceles? False\n",
            "O triângulo é escaleno? True\n"
          ]
        }
      ]
    },
    {
      "cell_type": "code",
      "source": [
        "#informando IMC\n",
        "peso = float(input(\"Informe o seu peso: \"))\n",
        "alt = float(input(\"Informe a sua altura\"))\n",
        "\n",
        "IMC = peso/alt**2\n",
        "\n",
        "abaixo = IMC < 18.5\n",
        "normal = 18.5 <= IMC < 25\n",
        "sobrepeso = 25 <= IMC < 30\n",
        "obesidade1 = 30 <= IMC < 35\n",
        "obesidade2 = 35 <= IMC < 40\n",
        "obesidade3 = IMC >= 40\n",
        "\n",
        "print(f\"O seu IMC é: {IMC:2.2f}\")\n",
        "\n",
        "\n",
        "print(\"Seu IMC está abaixo do peso? \", abaixo)\n",
        "print(\"Seu IMC está normal? \", normal)\n",
        "print(\"Seu IMC está no sobrepeso? \", sobrepeso)\n",
        "print(\"Seu IMC está no 1° grau de obesidade? \", obesidade1)\n",
        "print(\"Seu IMC está no 2° grau de obesidade? \", obesidade2 )\n",
        "print(\"Seu IMC está no 3° grau de obesidade? \", obesidade3 )\n"
      ],
      "metadata": {
        "colab": {
          "base_uri": "https://localhost:8080/"
        },
        "id": "3h87T7CfyMNq",
        "outputId": "63c868b8-deb9-41e6-bcb5-7ae12351a8de"
      },
      "execution_count": 2,
      "outputs": [
        {
          "output_type": "stream",
          "name": "stdout",
          "text": [
            "Informe o seu peso: 50\n",
            "Informe a sua altura1.56\n",
            "O seu IMC é: 20.55\n",
            "Seu IMC está abaixo do peso?  False\n",
            "Seu IMC está normal?  True\n",
            "Seu IMC está no sobrepeso?  False\n",
            "Seu IMC está no 1° grau de obesidade?  False\n",
            "Seu IMC está no 2° grau de obesidade?  False\n",
            "Seu IMC está no 3° grau de obesidade?  False\n"
          ]
        }
      ]
    },
    {
      "cell_type": "code",
      "source": [
        "#permissão para competir\n",
        "alt = float(input(\"Informe a sua altura: \"))\n",
        "idade = int(input(\"Informe sua idade: \"))\n",
        "\n",
        "permissao = (alt >= 1.75 and idade >= 18 )\n",
        "\n",
        "print(\"Você tem permissao para competir?\", permissao)"
      ],
      "metadata": {
        "colab": {
          "base_uri": "https://localhost:8080/"
        },
        "collapsed": true,
        "id": "rKM2UJhw5KYK",
        "outputId": "63b2c2ef-c416-49b4-cfc7-722848a1a059"
      },
      "execution_count": 7,
      "outputs": [
        {
          "output_type": "stream",
          "name": "stdout",
          "text": [
            "Informe a sua altura: 1.80\n",
            "Informe sua idade: 22\n",
            "Você tem permissao para competir? True\n"
          ]
        }
      ]
    },
    {
      "cell_type": "code",
      "source": [],
      "metadata": {
        "id": "kkqqCICG079F"
      },
      "execution_count": null,
      "outputs": []
    }
  ]
}