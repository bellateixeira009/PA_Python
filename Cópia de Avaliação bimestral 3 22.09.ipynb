{
 "cells": [
  {
   "cell_type": "markdown",
   "metadata": {
    "id": "XpJAZxJGnsjo"
   },
   "source": [
    "Coloque seu nome aqui: Isabella Teixeira da Silva"
   ]
  },
  {
   "cell_type": "markdown",
   "metadata": {
    "id": "psR_IyuqtxJc"
   },
   "source": [
    "**Atividade Avaliativa **\n",
    "\n",
    "Enunciado:\n",
    "\n",
    "Crie um programa em Python para avaliar uma competição de bandas de música. O programa deve:\n",
    "\n",
    "Perguntar a quantidade de bandas participantes (mínimo 3).\n",
    "\n",
    "Perguntar o nome de cada banda.\n",
    "\n",
    "Para cada banda, receber as notas de 5 jurados (valores de 0 a 10).\n",
    "\n",
    "Calcular a média das notas de cada banda e armazenar o resultado em um dicionário, onde a chave será o nome da banda e o valor será a média das notas.\n",
    "\n",
    "Ao final, mostrar:\n",
    "\n",
    "A média de cada banda.\n",
    "\n",
    "O nome da banda vencedora (a que tiver maior média)."
   ]
  },
  {
   "cell_type": "code",
   "execution_count": 79,
   "metadata": {},
   "outputs": [
    {
     "name": "stdout",
     "output_type": "stream",
     "text": [
      "Quantas bandas estão participando? (min 3): 5\n",
      "Qual o nome da banda? u\n",
      "Digite a nota do jurado 1 para a banda u (0 a 10): 7\n",
      "Digite a nota do jurado 2 para a banda u (0 a 10): 7\n",
      "Digite a nota do jurado 3 para a banda u (0 a 10): 7\n",
      "Digite a nota do jurado 4 para a banda u (0 a 10): 7\n",
      "Digite a nota do jurado 5 para a banda u (0 a 10): 7\n",
      "Qual o nome da banda? 7\n",
      "Digite a nota do jurado 1 para a banda 7 (0 a 10): 7\n",
      "Digite a nota do jurado 2 para a banda 7 (0 a 10): 7\n",
      "Digite a nota do jurado 3 para a banda 7 (0 a 10): 7\n",
      "Digite a nota do jurado 4 para a banda 7 (0 a 10): 7\n",
      "Digite a nota do jurado 5 para a banda 7 (0 a 10): 7\n",
      "Qual o nome da banda? fhuihrio\n",
      "Digite a nota do jurado 1 para a banda fhuihrio (0 a 10): 7\n",
      "Digite a nota do jurado 2 para a banda fhuihrio (0 a 10): 7\n",
      "Digite a nota do jurado 3 para a banda fhuihrio (0 a 10): 7\n",
      "Digite a nota do jurado 4 para a banda fhuihrio (0 a 10): 7\n",
      "Digite a nota do jurado 5 para a banda fhuihrio (0 a 10): 7\n",
      "Qual o nome da banda? gkjrtfg\n",
      "Digite a nota do jurado 1 para a banda gkjrtfg (0 a 10): 7\n",
      "Digite a nota do jurado 2 para a banda gkjrtfg (0 a 10): 7\n",
      "Digite a nota do jurado 3 para a banda gkjrtfg (0 a 10): 7\n",
      "Digite a nota do jurado 4 para a banda gkjrtfg (0 a 10): 7\n",
      "Digite a nota do jurado 5 para a banda gkjrtfg (0 a 10): 7\n",
      "Qual o nome da banda? lhr[hç\n",
      "Digite a nota do jurado 1 para a banda lhr[hç (0 a 10): 7\n",
      "Digite a nota do jurado 2 para a banda lhr[hç (0 a 10): 7\n",
      "Digite a nota do jurado 3 para a banda lhr[hç (0 a 10): 7\n",
      "Digite a nota do jurado 4 para a banda lhr[hç (0 a 10): 7\n",
      "Digite a nota do jurado 5 para a banda lhr[hç (0 a 10): 7\n",
      "\n",
      "Médias das bandas:\n",
      "u: 7.00\n",
      "7: 7.00\n",
      "fhuihrio: 7.00\n",
      "gkjrtfg: 7.00\n",
      "lhr[hç: 7.00\n",
      "\n",
      "A banda vencedora é: u\n"
     ]
    }
   ],
   "source": [
    "quant_bandas = int(input(\"Quantas bandas estão participando? (min 3): \"))\n",
    "while quant_bandas < 3:\n",
    "    print(\"O número de bandas deve ser no mínimo 3.\")\n",
    "    quant_bandas = int(input(\"Quantas bandas estão participando? (mínimo 3): \"))\n",
    "\n",
    "bandas = {}\n",
    "\n",
    "for i in range(quant_bandas):\n",
    "    nome_banda = input(\"Qual o nome da banda? \")\n",
    "    \n",
    "    notas = []\n",
    "    for i in range(5):\n",
    "        nota = float(input(f\"Digite a nota do jurado {i+1} para a banda {nome_banda} (0 a 10): \"))\n",
    "        while nota < 0 or nota > 10:\n",
    "            print(\"A nota deve ser entre 0 e 10.\")\n",
    "            nota = float(input(f\"Digite a nota do jurado {i+1} para a banda {nome_banda} (0 a 10): \"))\n",
    "        notas.append(nota)\n",
    "    \n",
    "    media = sum(notas) / len(notas)\n",
    "    bandas[nome_banda] = media\n",
    "\n",
    "print(\"Médias das bandas:\")\n",
    "for banda, media in bandas.items():\n",
    "    print(f\"{banda}: {media:.2f}\")\n",
    "\n",
    "banda_vencedora = max(bandas, key=bandas.get)\n",
    "print(f\"A banda vencedora é: {banda_vencedora}\")\n"
   ]
  },
  {
   "cell_type": "markdown",
   "metadata": {
    "id": "fRV1N-Q4G7BK"
   },
   "source": [
    "Enunciado:\n",
    "\n",
    "Crie um programa que conte quantas vezes cada palavra aparece em uma frase.\n",
    "\n",
    "Pedir ao usuário para digitar uma frase\n",
    "\n",
    "Imprimir a palavra e quantas vezes ela aparece"
   ]
  },
  {
   "cell_type": "code",
   "execution_count": 69,
   "metadata": {
    "id": "HwK3-mVQHv8j"
   },
   "outputs": [
    {
     "name": "stdout",
     "output_type": "stream",
     "text": [
      "Digite uma frase: oh oh la la\n",
      "oh: 2x\n",
      "la: 2x\n"
     ]
    }
   ],
   "source": [
    "# Digite sua resposta\n",
    "\n",
    "frase = input(\"Digite uma frase: \")\n",
    "palavras = frase.split() \n",
    "contador = {}\n",
    "for palavra_item in palavras:  # Itera sobre a lista de palavras\n",
    "    contador[palavra_item] = contador.get(palavra_item, 0) + 1\n",
    "for chave, valor in contador.items():\n",
    "    print(f\"{chave}: {valor}x\")\n"
   ]
  },
  {
   "cell_type": "markdown",
   "metadata": {
    "id": "BKrOSqrOI2T5"
   },
   "source": [
    "Enunciado:\n",
    "\n",
    "Crie um programa em python que imprima números pares\n",
    "\n",
    "Pedir o usuário para digitar uma lista com mínimo 10 números\n",
    "\n",
    "Criar uma nova somente com numeros pares\n",
    "\n",
    "Imprimir números pares\n",
    "\n"
   ]
  },
  {
   "cell_type": "code",
   "execution_count": 53,
   "metadata": {},
   "outputs": [
    {
     "name": "stdout",
     "output_type": "stream",
     "text": [
      "Digite um número: 1\n",
      "Digite um número: 2\n",
      "Digite um número: 3\n",
      "Digite um número: 4\n",
      "Digite um número: 5\n",
      "Digite um número: 6\n",
      "Digite um número: 7\n",
      "Digite um número: 8\n",
      "Digite um número: 9\n",
      "Digite um número: 10\n",
      "Os números pares são:\n",
      "[2, 4, 6, 8, 10]\n"
     ]
    }
   ],
   "source": [
    "numeros = []\n",
    "\n",
    "for i in range(10):\n",
    "    numero = int(input(\"Digite um número: \"))\n",
    "    numeros.append(numero)\n",
    "\n",
    "pares = []\n",
    "for numero in numeros:\n",
    "    if numero % 2 == 0:\n",
    "        pares.append(numero)\n",
    "            \n",
    "print(\"Os números pares são:\")\n",
    "if pares:\n",
    "    print(pares)\n",
    "else:\n",
    "    print(\"Não foram encontrados números pares na sua lista.\")"
   ]
  }
 ],
 "metadata": {
  "colab": {
   "authorship_tag": "ABX9TyMPfa4id0nMFHSWqcbBwSar",
   "provenance": [
    {
     "file_id": "1oEsagsr0AUsUTO9iGnea3JAW6NiCwqeB",
     "timestamp": 1758547990346
    },
    {
     "file_id": "1LADCxzYvBqiYFcjSgL_Z5bblVMBbsfJg",
     "timestamp": 1757516692807
    }
   ]
  },
  "kernelspec": {
   "display_name": "Python 3 (ipykernel)",
   "language": "python",
   "name": "python3"
  },
  "language_info": {
   "codemirror_mode": {
    "name": "ipython",
    "version": 3
   },
   "file_extension": ".py",
   "mimetype": "text/x-python",
   "name": "python",
   "nbconvert_exporter": "python",
   "pygments_lexer": "ipython3",
   "version": "3.10.7"
  }
 },
 "nbformat": 4,
 "nbformat_minor": 1
}
