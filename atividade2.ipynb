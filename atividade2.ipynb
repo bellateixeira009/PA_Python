{
  "nbformat": 4,
  "nbformat_minor": 0,
  "metadata": {
    "colab": {
      "provenance": [],
      "authorship_tag": "ABX9TyPYJYs3+zK79a+83723BtBJ",
      "include_colab_link": true
    },
    "kernelspec": {
      "name": "python3",
      "display_name": "Python 3"
    },
    "language_info": {
      "name": "python"
    }
  },
  "cells": [
    {
      "cell_type": "markdown",
      "metadata": {
        "id": "view-in-github",
        "colab_type": "text"
      },
      "source": [
        "<a href=\"https://colab.research.google.com/github/bellateixeira009/PA_Python/blob/main/atividade2.ipynb\" target=\"_parent\"><img src=\"https://colab.research.google.com/assets/colab-badge.svg\" alt=\"Open In Colab\"/></a>"
      ]
    },
    {
      "cell_type": "code",
      "execution_count": null,
      "metadata": {
        "colab": {
          "base_uri": "https://localhost:8080/"
        },
        "id": "tpuKAhersQ1b",
        "outputId": "52ddaa66-bda8-49e1-e5a4-e17786a0e90f"
      },
      "outputs": [
        {
          "output_type": "stream",
          "name": "stdout",
          "text": [
            "Informe a primeira idade: 15\n",
            "Informe a segunda idade: 12\n",
            "A primeira idade é maior que a segunda?  True\n"
          ]
        }
      ],
      "source": [
        "#1. Comparação de Idades\n",
        "\n",
        "id1 = int(input(\"Informe a primeira idade: \"))\n",
        "id2 = int(input(\"Informe a segunda idade: \"))\n",
        "\n",
        "idade = (id1 > id2)\n",
        "\n",
        "print(\"A primeira idade é maior que a segunda? \", idade)"
      ]
    },
    {
      "cell_type": "code",
      "source": [
        "#2. Validação de Acesso\n",
        "id = int(input(\"Informe a sua idade: \"))\n",
        "sen = int(input(\"Digite a senha: \"))\n",
        "\n",
        "idade = (id >= 18)\n",
        "senha = (sen == 1234)\n",
        "\n",
        "print(\"Você tem 18 anos?\", idade)\n",
        "print(\"A sua senha está correta?\", senha)"
      ],
      "metadata": {
        "colab": {
          "base_uri": "https://localhost:8080/"
        },
        "id": "bcwScT5YtL3I",
        "outputId": "236f0c10-6c66-4a61-9cb1-76d4912253b8"
      },
      "execution_count": null,
      "outputs": [
        {
          "output_type": "stream",
          "name": "stdout",
          "text": [
            "Informe a sua idade: 21\n",
            "Digite a senha: 3456\n",
            "Você tem 18 anos? True\n",
            "A sua senha está correta? False\n"
          ]
        }
      ]
    },
    {
      "cell_type": "code",
      "source": [
        "#3. Número Fora de Intervalo\n",
        "num = int(input(\"Informe um número: \"))\n",
        "\n",
        "verif = 10 <= num <= 50\n",
        "\n",
        "print(\"O número está entre 10 e 50?\", verif)"
      ],
      "metadata": {
        "colab": {
          "base_uri": "https://localhost:8080/"
        },
        "id": "uBX8GVnKuVXc",
        "outputId": "ce9650e3-25ee-4b78-9995-7d55d6514f51"
      },
      "execution_count": 1,
      "outputs": [
        {
          "output_type": "stream",
          "name": "stdout",
          "text": [
            "Informe um número: 36\n",
            "O número está entre 10 e 50? True\n"
          ]
        }
      ]
    },
    {
      "cell_type": "code",
      "source": [
        "#4. Compra Aprovação\n",
        "saldo = float(input(\"Informe o seu saldo disponível: \"))\n",
        "valor_compra = float(input(\"Informe o valor da compra: \"))\n",
        "tem_cupom = input(\"Você tem um cupom de desconto ativo? (s/n): \").lower() == 's'\n",
        "\n",
        "compra_aprovada = saldo >= valor_compra or tem_cupom\n",
        "\n",
        "print(\"Compra aprovada?\", compra_aprovada)"
      ],
      "metadata": {
        "id": "ew3uOp5dvuhg",
        "colab": {
          "base_uri": "https://localhost:8080/"
        },
        "outputId": "33301af1-bbc3-4a33-d956-44f0c4858e30"
      },
      "execution_count": 2,
      "outputs": [
        {
          "output_type": "stream",
          "name": "stdout",
          "text": [
            "Informe o seu saldo disponível: 3000\n",
            "Informe o valor da compra: 200\n",
            "Você tem um cupom de desconto ativo? (s/n): n\n",
            "Compra aprovada? True\n"
          ]
        }
      ]
    },
    {
      "cell_type": "code",
      "source": [
        "#5. Checar Condições Múltiplas\n",
        "num = int(input(\"Informe um número: \"))\n",
        "\n",
        "positivo = num > 0\n",
        "par = num % 2 == 0\n",
        "positivo_e_par = positivo and par\n",
        "\n",
        "print(\"O número é positivo e par?\", positivo_e_par)\n"
      ],
      "metadata": {
        "colab": {
          "base_uri": "https://localhost:8080/"
        },
        "id": "6YxQjuRP5Y2e",
        "outputId": "69d36d4a-091d-4d65-e859-7706c329521f"
      },
      "execution_count": 4,
      "outputs": [
        {
          "output_type": "stream",
          "name": "stdout",
          "text": [
            "Informe um número: 5\n",
            "O número é positivo e par? False\n"
          ]
        }
      ]
    },
    {
      "cell_type": "code",
      "source": [
        "#6. Verificar Se É Adolescente\n",
        "idade = int(input(\"Digite a idade: \"))\n",
        "adolescente = 13 <= idade <= 17\n",
        "print(\"É adolescente:\", adolescente)"
      ],
      "metadata": {
        "colab": {
          "base_uri": "https://localhost:8080/"
        },
        "id": "ly3VMi2B6OIU",
        "outputId": "ac44817e-879e-4145-814d-38e336cf299e"
      },
      "execution_count": 5,
      "outputs": [
        {
          "output_type": "stream",
          "name": "stdout",
          "text": [
            "Digite a idade: 15\n",
            "É adolescente: True\n"
          ]
        }
      ]
    },
    {
      "cell_type": "code",
      "source": [
        "#7. Senha Correta ou Admin\n",
        "senha = input(\"Digite a senha: \")\n",
        "admin = input(\"Você é administrador? (sim/não): \").strip().lower() == 'true'\n",
        "\n",
        "print(\"Acesso permitido!\" * ((senha == \"12345\") or admin) or \"Acesso negado.\")"
      ],
      "metadata": {
        "colab": {
          "base_uri": "https://localhost:8080/"
        },
        "id": "lIkwkp5M6wu_",
        "outputId": "b5b0ed11-3317-4fb4-89c4-4480f56089d2"
      },
      "execution_count": 19,
      "outputs": [
        {
          "output_type": "stream",
          "name": "stdout",
          "text": [
            "Digite a senha: 12345\n",
            "Você é administrador? (sim/não): sim\n",
            "Acesso permitido!\n"
          ]
        }
      ]
    },
    {
      "cell_type": "code",
      "source": [
        "#8. Nota para Aprovação\n",
        "nota = float(input(\"Digite a nota: \"))\n",
        "presente = input(\"Está presente? (sim/não): \").strip().lower() == 'sim'\n",
        "\n",
        "aprovado = (nota >= 6) and presente\n",
        "print(\"Aprovado!\" * aprovado or \"Reprovado!\")"
      ],
      "metadata": {
        "colab": {
          "base_uri": "https://localhost:8080/"
        },
        "id": "O0XsJP1f7Lvm",
        "outputId": "5ddbdd28-090c-40ee-fea2-6b5ef020361c"
      },
      "execution_count": 15,
      "outputs": [
        {
          "output_type": "stream",
          "name": "stdout",
          "text": [
            "Digite a nota: 9\n",
            "Está presente? (sim/não): sim\n",
            "Aprovado!\n"
          ]
        }
      ]
    },
    {
      "cell_type": "code",
      "source": [
        "##9. Sistema de Multa de Velocidade\n",
        "velocidade = float(input(\"Digite a velocidade do veículo (km/h): \"))\n",
        "\n",
        "multado = velocidade > 80\n",
        "\n",
        "print(\"Multado!\" * multado or \"Sem multa!\")"
      ],
      "metadata": {
        "colab": {
          "base_uri": "https://localhost:8080/"
        },
        "id": "01Ri1pn88RsH",
        "outputId": "942cca74-33ef-408b-fdd0-76e16b2a40ee"
      },
      "execution_count": 16,
      "outputs": [
        {
          "output_type": "stream",
          "name": "stdout",
          "text": [
            "Digite a velocidade do veículo (km/h): 97\n",
            "Multado!\n"
          ]
        }
      ]
    },
    {
      "cell_type": "code",
      "source": [
        "#10. Triagem de Evento\n",
        "idade = int(input(\"Digite sua idade: \"))\n",
        "tem_convite = input(\"Você tem convite? (sim/não): \").strip().lower() == 'sim'\n",
        "\n",
        "entrada_permitida = tem_convite and (idade >= 18)\n",
        "\n",
        "# Exibe a mensagem com base na condição\n",
        "print(\"Entrada permitida!\" * entrada_permitida or \"Entrada negada!\")"
      ],
      "metadata": {
        "id": "CUKtIy_2ADDe"
      },
      "execution_count": null,
      "outputs": []
    }
  ]
}