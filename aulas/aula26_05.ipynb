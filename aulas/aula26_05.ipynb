{
  "nbformat": 4,
  "nbformat_minor": 0,
  "metadata": {
    "colab": {
      "provenance": [],
      "authorship_tag": "ABX9TyPyEKWn5O21bwyEMfdIaLfd",
      "include_colab_link": true
    },
    "kernelspec": {
      "name": "python3",
      "display_name": "Python 3"
    },
    "language_info": {
      "name": "python"
    }
  },
  "cells": [
    {
      "cell_type": "markdown",
      "metadata": {
        "id": "view-in-github",
        "colab_type": "text"
      },
      "source": [
        "<a href=\"https://colab.research.google.com/github/bellateixeira009/PA_Python/blob/main/aulas/aula26_05.ipynb\" target=\"_parent\"><img src=\"https://colab.research.google.com/assets/colab-badge.svg\" alt=\"Open In Colab\"/></a>"
      ]
    },
    {
      "cell_type": "markdown",
      "source": [
        "#Exercício de Algoritmo – IF Simples\n",
        "**Enunciado:**\n",
        "\n",
        "Você foi contratado para desenvolver um sistema simples para uma farmácia. O sistema deve ajudar o atendente a aplicar descontos em medicamentos com base na idade do cliente.\n",
        "\n",
        "\n",
        "---\n",
        "\n",
        "\n",
        "**O programa deve seguir as seguintes regras:**\n",
        "\n",
        "Se a pessoa for menor de 12 anos, o desconto é de 15%.\n",
        "\n",
        "Se a pessoa tiver entre 60 e 75 anos (inclusive), o desconto é de 20%.\n",
        "\n",
        "Se a pessoa tiver mais de 75 anos, o desconto é de 25%.\n",
        "\n",
        "Para todas as outras idades, não há desconto.\n",
        "\n",
        "\n",
        "---\n",
        "\n",
        "\n",
        "\n",
        "**Regras para o exercício:**\n",
        "\n",
        "O valor original do medicamento deve ser informado pelo usuário.\n",
        "\n",
        "A idade do cliente também deve ser informada.\n",
        "\n",
        "O programa deve mostrar:\n",
        "\n",
        "O valor do desconto (se houver).\n",
        "\n",
        "O valor final a ser pago."
      ],
      "metadata": {
        "id": "mz4MupRNeA0l"
      }
    },
    {
      "cell_type": "code",
      "source": [
        "preco_original = float(input(\"Digite o valor original do medicamento: R$ \"))\n",
        "idade_cliente = int(input(\"Digite a idade do cliente: \"))\n",
        "\n",
        "desconto = 0\n",
        "valor_final = preco_original\n",
        "\n",
        "\n",
        "if idade_cliente < 12:\n",
        "    desconto = 0.15  #15%\n",
        "elif 60 <= idade_cliente <= 75:\n",
        "    desconto = 0.20  #20%\n",
        "elif idade_cliente > 75:\n",
        "    desconto = 0.25  #25%\n",
        "\n",
        "\n",
        "valor_desconto = preco_original * desconto\n",
        "valor_final = preco_original - valor_desconto\n",
        "\n",
        "\n",
        "if desconto > 0:\n",
        "    print(f\"Desconto aplicado: R$ {valor_desconto:.2f}\")\n",
        "else:\n",
        "    print(\"Não há desconto disponível para esta idade.\")\n",
        "\n",
        "print(f\"Valor final a ser pago: R$ {valor_final:.2f}\")"
      ],
      "metadata": {
        "colab": {
          "base_uri": "https://localhost:8080/"
        },
        "id": "CHgivORyenyh",
        "outputId": "280bcad3-cfa2-4624-cbdb-ccfd58b50fb5"
      },
      "execution_count": 4,
      "outputs": [
        {
          "output_type": "stream",
          "name": "stdout",
          "text": [
            "Digite o valor original do medicamento: R$ 25\n",
            "Digite a idade do cliente: 21\n",
            "Não há desconto disponível para esta idade.\n",
            "Valor final a ser pago: R$ 25.00\n"
          ]
        }
      ]
    }
  ]
}