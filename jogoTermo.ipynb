{
  "nbformat": 4,
  "nbformat_minor": 0,
  "metadata": {
    "colab": {
      "provenance": [],
      "authorship_tag": "ABX9TyMS0G5lXasalxYb8j9fpmYY",
      "include_colab_link": true
    },
    "kernelspec": {
      "name": "python3",
      "display_name": "Python 3"
    },
    "language_info": {
      "name": "python"
    }
  },
  "cells": [
    {
      "cell_type": "markdown",
      "metadata": {
        "id": "view-in-github",
        "colab_type": "text"
      },
      "source": [
        "<a href=\"https://colab.research.google.com/github/bellateixeira009/PA_Python/blob/main/jogoTermo.ipynb\" target=\"_parent\"><img src=\"https://colab.research.google.com/assets/colab-badge.svg\" alt=\"Open In Colab\"/></a>"
      ]
    },
    {
      "cell_type": "code",
      "execution_count": null,
      "metadata": {
        "id": "DRUbBzxr1lW5"
      },
      "outputs": [],
      "source": [
        "import random\n",
        "\n",
        "palavras = ['carta', 'bravo', 'festa', 'amigo', 'solar', 'vento', 'praia', 'fruta', 'doida', 'tarde']\n",
        "\n",
        "palavra_secreta = random.choice(palavras)\n",
        "\n",
        "tentativas = 6\n",
        "print(\"Jogo Termo: tente adivinhar a palavra de 5 letras. Você tem 6 tentativas.\")\n",
        "\n",
        "while tentativas > 0:\n",
        "    chute = input(f\"\\nDigite sua palavra ({tentativas} tentativas restantes): \").lower()\n",
        "\n",
        "    if len(chute) != 5:\n",
        "        print(\"A palavra deve ter exatamente 5 letras. Tente novamente.\")\n",
        "        continue\n",
        "\n",
        "    if chute == palavra_secreta:\n",
        "        print(\"Parabéns! Você acertou a palavra!\")\n",
        "        break\n",
        "\n",
        "    resultado = ''\n",
        "    for i in range(5):\n",
        "        if chute[i] == palavra_secreta[i]:\n",
        "            resultado += '🟩'\n",
        "        elif chute[i] in palavra_secreta:\n",
        "            resultado += '🟨'\n",
        "        else:\n",
        "            resultado += '⬜'\n",
        "\n",
        "    print(resultado)\n",
        "    tentativas -= 1\n",
        "\n",
        "if tentativas == 0 and chute != palavra_secreta:\n",
        "    print(f\"Suas tentativas acabaram. A palavra correta era: {palavra_secreta}\")\n"
      ]
    }
  ]
}