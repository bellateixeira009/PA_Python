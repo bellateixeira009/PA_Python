{
  "nbformat": 4,
  "nbformat_minor": 0,
  "metadata": {
    "colab": {
      "provenance": [],
      "authorship_tag": "ABX9TyOrGbna4Hw+LP1AzLkvM8P8",
      "include_colab_link": true
    },
    "kernelspec": {
      "name": "python3",
      "display_name": "Python 3"
    },
    "language_info": {
      "name": "python"
    }
  },
  "cells": [
    {
      "cell_type": "markdown",
      "metadata": {
        "id": "view-in-github",
        "colab_type": "text"
      },
      "source": [
        "<a href=\"https://colab.research.google.com/github/bellateixeira009/PA_Python/blob/main/operadores_variaveis.ipynb\" target=\"_parent\"><img src=\"https://colab.research.google.com/assets/colab-badge.svg\" alt=\"Open In Colab\"/></a>"
      ]
    },
    {
      "cell_type": "markdown",
      "source": [
        "Aula de Programação e Algoritmos 24/fev ♥"
      ],
      "metadata": {
        "id": "OOhYEwU7xKqn"
      }
    },
    {
      "cell_type": "markdown",
      "source": [
        "## *Operadores*"
      ],
      "metadata": {
        "id": "xGc9S2PYxtw2"
      }
    },
    {
      "cell_type": "code",
      "source": [
        "# Soma\n",
        "1 + 1"
      ],
      "metadata": {
        "colab": {
          "base_uri": "https://localhost:8080/"
        },
        "id": "gXOklT8WxS8R",
        "outputId": "c3c8000c-f7d5-435a-a2ca-a5062b8b6c37"
      },
      "execution_count": null,
      "outputs": [
        {
          "output_type": "execute_result",
          "data": {
            "text/plain": [
              "2"
            ]
          },
          "metadata": {},
          "execution_count": 2
        }
      ]
    },
    {
      "cell_type": "code",
      "source": [
        "# Subtração\n",
        "5 - 3"
      ],
      "metadata": {
        "colab": {
          "base_uri": "https://localhost:8080/"
        },
        "id": "A2ml4UZ3xlLY",
        "outputId": "6c02f598-7d89-4cd2-93c5-4ecfd219e699"
      },
      "execution_count": null,
      "outputs": [
        {
          "output_type": "execute_result",
          "data": {
            "text/plain": [
              "2"
            ]
          },
          "metadata": {},
          "execution_count": 3
        }
      ]
    },
    {
      "cell_type": "code",
      "source": [
        "# Multiplicação\n",
        "7 * 7"
      ],
      "metadata": {
        "colab": {
          "base_uri": "https://localhost:8080/"
        },
        "id": "QKI_Mwtix4ID",
        "outputId": "02b3b7c3-5e31-4db1-9464-a9063050c449"
      },
      "execution_count": null,
      "outputs": [
        {
          "output_type": "execute_result",
          "data": {
            "text/plain": [
              "49"
            ]
          },
          "metadata": {},
          "execution_count": 4
        }
      ]
    },
    {
      "cell_type": "code",
      "source": [
        "# Divisão\n",
        "35 / 5"
      ],
      "metadata": {
        "colab": {
          "base_uri": "https://localhost:8080/"
        },
        "id": "XFrf1D4NyDQN",
        "outputId": "dff4dee5-ab03-42cf-ec5e-b3ab9d1ede60"
      },
      "execution_count": null,
      "outputs": [
        {
          "output_type": "execute_result",
          "data": {
            "text/plain": [
              "7.0"
            ]
          },
          "metadata": {},
          "execution_count": 6
        }
      ]
    },
    {
      "cell_type": "code",
      "source": [
        "# Expoente\n",
        "2 ** 3"
      ],
      "metadata": {
        "colab": {
          "base_uri": "https://localhost:8080/"
        },
        "id": "0SkVsmsEytl6",
        "outputId": "729e7f67-66f9-42d7-b3e2-2d06d0394877"
      },
      "execution_count": null,
      "outputs": [
        {
          "output_type": "execute_result",
          "data": {
            "text/plain": [
              "8"
            ]
          },
          "metadata": {},
          "execution_count": 7
        }
      ]
    },
    {
      "cell_type": "markdown",
      "source": [
        "# *Variáveis*\n",
        "\n",
        "\n",
        "\n",
        "#    String\n",
        "Nome \"Isabella\"\n",
        "#    Float\n",
        "Altura = 1.56\n",
        "#    Int\n",
        "Idade = 15\n",
        "\n",
        "\n",
        "\n",
        "\n",
        "\n"
      ],
      "metadata": {
        "id": "5ZviZ1FLzJEh"
      }
    },
    {
      "cell_type": "code",
      "source": [
        "soma = 5 + 7\n",
        "print('A soma é =', soma)"
      ],
      "metadata": {
        "colab": {
          "base_uri": "https://localhost:8080/"
        },
        "id": "w5eShvGV28VM",
        "outputId": "f76a138a-82fe-4ece-cc29-ce266fb14e6d"
      },
      "execution_count": 5,
      "outputs": [
        {
          "output_type": "stream",
          "name": "stdout",
          "text": [
            "A soma é = 12\n"
          ]
        }
      ]
    },
    {
      "cell_type": "code",
      "source": [
        "soma = soma + 2\n",
        "print('A soma é =', soma)"
      ],
      "metadata": {
        "colab": {
          "base_uri": "https://localhost:8080/"
        },
        "id": "MU3fB7mD3VYw",
        "outputId": "356a2a04-cc6b-4ef8-c465-96737d174f24"
      },
      "execution_count": 6,
      "outputs": [
        {
          "output_type": "stream",
          "name": "stdout",
          "text": [
            "A soma é = 14\n"
          ]
        }
      ]
    },
    {
      "cell_type": "code",
      "source": [
        "soma = soma - 5\n",
        "print('A soma agora é =', soma)"
      ],
      "metadata": {
        "colab": {
          "base_uri": "https://localhost:8080/"
        },
        "id": "zYGE-mEn3ous",
        "outputId": "310500dd-0a7e-44ae-dd35-720da4adf97c"
      },
      "execution_count": 7,
      "outputs": [
        {
          "output_type": "stream",
          "name": "stdout",
          "text": [
            "A soma agora é = 9\n"
          ]
        }
      ]
    },
    {
      "cell_type": "code",
      "source": [
        "soma = soma +2-5*8/3\n",
        "print('O resultado é =', soma)"
      ],
      "metadata": {
        "colab": {
          "base_uri": "https://localhost:8080/"
        },
        "id": "_CEFf7Gu3z0K",
        "outputId": "fb688799-9454-4d3f-b59b-618b53c0bf94"
      },
      "execution_count": 8,
      "outputs": [
        {
          "output_type": "stream",
          "name": "stdout",
          "text": [
            "O resultado é = -2.333333333333334\n"
          ]
        }
      ]
    },
    {
      "cell_type": "code",
      "source": [
        "conta = int\n",
        "conta = 7 * 5 * (4 + 2)\n",
        "print('O resultado é =', conta)"
      ],
      "metadata": {
        "colab": {
          "base_uri": "https://localhost:8080/"
        },
        "id": "atT0WhqC3_kN",
        "outputId": "491436fb-4d00-4c07-e716-dc9c09ad581c"
      },
      "execution_count": 9,
      "outputs": [
        {
          "output_type": "stream",
          "name": "stdout",
          "text": [
            "O resultado é = 210\n"
          ]
        }
      ]
    },
    {
      "cell_type": "code",
      "source": [
        "# Calcular a área do quadrado\n",
        "\n",
        "# Entrada\n",
        "lado = int(input('Qual a medida do lado do quadrado?'))\n",
        "\n",
        "# Processamento\n",
        "area = lado * lado\n",
        "\n",
        "# Saída\n",
        "print('Então a área do quadrado é =', area)"
      ],
      "metadata": {
        "colab": {
          "base_uri": "https://localhost:8080/"
        },
        "id": "8w3WYL_o5ykU",
        "outputId": "65258102-4ce5-44cd-b131-736923bc41e2"
      },
      "execution_count": 11,
      "outputs": [
        {
          "output_type": "stream",
          "name": "stdout",
          "text": [
            "Qual a medida do lado do quadrado?9\n",
            "Então a área do quadrado é = 81\n"
          ]
        }
      ]
    },
    {
      "cell_type": "markdown",
      "source": [
        "Aula de Programação e Algoritmos 10/mar ♥"
      ],
      "metadata": {
        "id": "b-fwDAZYVIzh"
      }
    },
    {
      "cell_type": "markdown",
      "source": [
        "1• Os alunos farão duas provas. Calcule a média da nota dos alunos\n",
        "\n",
        "---\n",
        "\n",
        "\n"
      ],
      "metadata": {
        "id": "WL5YkDHjXE_U"
      }
    },
    {
      "cell_type": "code",
      "source": [
        "n1 = float(input('Nota da primeira prova:')) #pedido ao usuário da nota da primeira prova\n",
        "n2 = float(input('Nota da segunda prova:')) #pedido ao usuário da nota da primeira prova\n",
        "p = 2 #quantidade de provas\n",
        "m = (n1 + n2) / p #cálculo da média\n",
        "print(\"A nota média entre as duas provas é\", m)"
      ],
      "metadata": {
        "colab": {
          "base_uri": "https://localhost:8080/"
        },
        "id": "KYHkCclPVupD",
        "outputId": "09415a98-4506-44ec-e43a-0af40e8e453f"
      },
      "execution_count": 14,
      "outputs": [
        {
          "output_type": "stream",
          "name": "stdout",
          "text": [
            "Nota da primeira prova:7\n",
            "Nota da segunda prova:9\n",
            "A nota média entre as duas provas é 8.0\n"
          ]
        }
      ]
    },
    {
      "cell_type": "markdown",
      "source": [
        "2• Transforme Celsius em Fahrenheit\n",
        "\n",
        "---\n",
        "\n"
      ],
      "metadata": {
        "id": "pAyz4DVBceXk"
      }
    },
    {
      "cell_type": "code",
      "source": [
        "C = int(input('Qual a temperatura em C°?'))\n",
        "F = (C * 1.8) + 32\n",
        "print(C, 'graus é', F, 'em Fahreinheit')"
      ],
      "metadata": {
        "id": "97-x7ZOAa_9d"
      },
      "execution_count": null,
      "outputs": []
    },
    {
      "cell_type": "markdown",
      "source": [
        "3• Transforme Fahrenheit em Celsius"
      ],
      "metadata": {
        "id": "bJK21lALftCV"
      }
    },
    {
      "cell_type": "code",
      "source": [
        "F = int(input('Qual a temperatura em Fahrenheit?'))\n",
        "C = (F - 32) / 1.8\n",
        "print(F, 'Fahrenheit é', C, 'em Celsius')"
      ],
      "metadata": {
        "colab": {
          "base_uri": "https://localhost:8080/"
        },
        "id": "PI9fMaK2dwiu",
        "outputId": "e7716130-8f35-47ca-f8fc-131b388c298a"
      },
      "execution_count": 13,
      "outputs": [
        {
          "output_type": "stream",
          "name": "stdout",
          "text": [
            "Qual a temperatura em Fahrenheit?87\n",
            "87 Fahrenheit é 30.555555555555554 em Celsius\n"
          ]
        }
      ]
    },
    {
      "cell_type": "markdown",
      "source": [
        "4• Valor total de acordo com a quantidade de peças"
      ],
      "metadata": {
        "id": "i0QvHMkZkuYF"
      }
    },
    {
      "cell_type": "code",
      "source": [
        "V = float(input('Qual o valor da peça?'))\n",
        "Q = int(input('Qual a quantidade de peças?'))\n",
        "VT = V * Q\n",
        "print(Q, \"peças custam\", VT, '$')"
      ],
      "metadata": {
        "colab": {
          "base_uri": "https://localhost:8080/"
        },
        "id": "AjwdPOmFjlgO",
        "outputId": "1e6e8ad5-9b8d-4407-c06f-4a05374fa44a"
      },
      "execution_count": 15,
      "outputs": [
        {
          "output_type": "stream",
          "name": "stdout",
          "text": [
            "Qual o valor da peça?2.50\n",
            "Qual a quantidade de peças?6\n",
            "6 pecças custam 15.0 $\n"
          ]
        }
      ]
    }
  ]
}