{
  "nbformat": 4,
  "nbformat_minor": 0,
  "metadata": {
    "colab": {
      "provenance": [],
      "authorship_tag": "ABX9TyNut1za9OherV3TtLMvmVwD",
      "include_colab_link": true
    },
    "kernelspec": {
      "name": "python3",
      "display_name": "Python 3"
    },
    "language_info": {
      "name": "python"
    }
  },
  "cells": [
    {
      "cell_type": "markdown",
      "metadata": {
        "id": "view-in-github",
        "colab_type": "text"
      },
      "source": [
        "<a href=\"https://colab.research.google.com/github/bellateixeira009/PA_Python/blob/main/aula_PA/fluxogramas.ipynb\" target=\"_parent\"><img src=\"https://colab.research.google.com/assets/colab-badge.svg\" alt=\"Open In Colab\"/></a>"
      ]
    },
    {
      "cell_type": "markdown",
      "source": [
        "Aula Remota 17/mar\n",
        "\n",
        "# Fluxogramas, Variáveis e Operadores Aritméticos"
      ],
      "metadata": {
        "id": "Dq-2KOnXaKhJ"
      }
    },
    {
      "cell_type": "markdown",
      "source": [
        "**1) O custo ao consumidor de um carro novo é a soma do custo de fábrica com a percentagem do distribuidor e dos impostos (aplicados, primeiro os impostos sobre o custo de fábrica, e depois a percentagem do distribuidor sobre o resultado). Supondo que a percentagem do distribuidor seja de 28% e os impostos 45%. Escrever um algoritmo que leia o custo de fábrica de um carro e informe o custo ao consumidor do mesmo.**\n",
        "\n",
        "Exemplo: Custo de fábrica do carro: R$25.000,00\n",
        "\n",
        "Impostos: 45% = R$11.250 (Total R$36.250,00)\n",
        "\n",
        "Distribuição 28% = R$10.150 (Total R$ 46.400,00)\n",
        "\n",
        "Para o consumidor: R$ 46.400,00"
      ],
      "metadata": {
        "id": "zvIvDAh8V9ET"
      }
    },
    {
      "cell_type": "code",
      "source": [
        "#RESOLUÇÃO\n",
        "## o custo ao consumidor é a soma entre o custo de fábrica com impostos e a percentagem\n",
        "### do distruidor. Então, o primeiro passo deve ser coletar o custo de fábrica e somá-lo\n",
        "#### com o valor do imposto. Quando obter o valor após o imposto, deve-se somar o\n",
        "##### resultado com o custo do distribuidor, cassim, calculando o custo final ao consumidor.\n",
        "\n",
        "\n",
        "#solicitando o custo de fábrica\n",
        "cf = float(input('Informe o custo de fábrica do carro: R$' ))\n",
        "\n",
        "#percentagem do imposto e do distribuidor\n",
        "Pimp = 45 / 100\n",
        "Pdis = 28/ 100\n",
        "\n",
        "#cálculo dos impostos (45% sobre o custo de fábrica)\n",
        "imp = cf * Pimp\n",
        "\n",
        "#soma dos custos de fábrica com o valor dos impostos)\n",
        "custos_imp = cf + imp\n",
        "\n",
        "#cálculo do distribuidor (28% sobre os custos com impostos)\n",
        "dis = custos_imp * Pdis\n",
        "\n",
        "#Cálculo do custo ao consumidor (custos com impostos mais a distribuição)\n",
        "custo_CON = custos_imp + dis\n",
        "\n",
        "\n",
        "print('imposto: ', imp)\n",
        "print('cutos sobre os impostos: ', custos_imp)\n",
        "print('distribuição: ', dis)\n",
        "print('O custo ao consumidor é: ', custo_CON)"
      ],
      "metadata": {
        "colab": {
          "base_uri": "https://localhost:8080/"
        },
        "id": "EVcF6mtdWJck",
        "outputId": "d639bcda-c09c-4b7d-9338-221400b79f8f"
      },
      "execution_count": null,
      "outputs": [
        {
          "output_type": "stream",
          "name": "stdout",
          "text": [
            "Informe o custo de fábrica do carro: R$25.000\n",
            "imposto:  11.25\n",
            "cutos sobre os impostos:  36.25\n",
            "distribuição:  10.15\n",
            "O custo ao consumidor é:  46.4\n"
          ]
        }
      ]
    },
    {
      "cell_type": "markdown",
      "source": [
        "**2)  Faça um algoritmo que faça conversão de minutos e horas em segundos. Solicite ao usuário a hora e os minutos separado.**\n",
        "\n",
        "Por exemplo 4h23 minutos equivale a 4.38 para fazer cálculos matemáticos\n",
        "\n",
        "Para chegar a essa conclusão: 23/60 = 0,38 🡺 4+0,38 = 4,38\n",
        "\n",
        "Para o Teste de Mesa (prova real)\n",
        "\n",
        "3h40 = 3.67\n",
        "\n",
        "1h32 = 1.52"
      ],
      "metadata": {
        "id": "ZRTT1ctOjGD9"
      }
    },
    {
      "cell_type": "code",
      "source": [
        "hr = int(input('Informe a hora: '))\n",
        "min =\n",
        "int(input('Informe os minutos: '))\n",
        "\n",
        "min_dec = min / 60\n",
        "hr_dec = hr + min_dec\n",
        "\n",
        "print(hr, 'horas e', min, 'minutos convertidos em segundos são:', hr_dec)"
      ],
      "metadata": {
        "colab": {
          "base_uri": "https://localhost:8080/"
        },
        "id": "-UiAEUd3jZTM",
        "outputId": "27d37755-29c7-4ba1-9e3a-23464ea410e8"
      },
      "execution_count": null,
      "outputs": [
        {
          "output_type": "stream",
          "name": "stdout",
          "text": [
            "Informe a hora: 18\n",
            "Informe os minutos: 13\n",
            "18 horas e 13 minutos convertidos em segundos são: 18.216666666666665\n"
          ]
        }
      ]
    },
    {
      "cell_type": "markdown",
      "source": [
        "**3)  Continuando do exercício anterior, um funcionário trabalha em determinada empresa e quer saber quanto irá ganhar de hora extra. Você deverá fazer um algoritmo que solicite quantas horas e quantos minutos ele trabalhou, solicite horas e minutos de forma separada. Depois pergunte quanto ele ganha por hora e informe quanto ele irá ganhar. Sabendo que nessa empresa o funcionário ganha 70% a mais pelas horas trabalhadas.**\n",
        "\n",
        "Ex. Trabalhei neste mês 15h45min == 15.75\n",
        "\n",
        "Ganho R$ 25 reais por hora\n",
        "\n",
        "Resultado tem que ser = R$ 669,37 com os 70% amais\n",
        "\n",
        "Outro teste de mesa: Se trabalhei 20h, devo ganhar R$ 850,00"
      ],
      "metadata": {
        "id": "S5hEQbAKze8u"
      }
    },
    {
      "cell_type": "code",
      "source": [
        "#solicitando as horas e os minutos separadamente\n",
        "h_trab = int(input('Informe as horas de trabalho: '))\n",
        "min_trab = int(input('Informe os minutos de trabalho: '))\n",
        "\n",
        "#Convertendo horas e minutos\n",
        "min_dec = min_trab / 60\n",
        "hr_dec = h_trab + min_dec\n",
        "\n",
        "#solicitando o ganho por hora\n",
        "ganho_h = float(input('Informe o ganho por hora: $'))\n",
        "\n",
        "#salario normal\n",
        "salario = hr_dec * ganho_h\n",
        "\n",
        "#70% sobre o salario\n",
        "extra_70 = salario * 0.7\n",
        "\n",
        "#calculando o salario final\n",
        "salario_final = salario + extra_70\n",
        "\n",
        "print('Você trabalhou', h_trab, 'horas e', min_trab, 'minutos')\n",
        "print(f'O seu salário é %{salario:2.2f} e ganhará ${extra_70:2.2f} de horas extras')\n",
        "print(f'Então você irá receber ${salario_final:2.2f} com o aumento de 70% pelas horas extras ')"
      ],
      "metadata": {
        "id": "x2yVHQ-Pzog7",
        "colab": {
          "base_uri": "https://localhost:8080/"
        },
        "outputId": "e252f233-2e36-4179-abcc-9b0ebb6290da"
      },
      "execution_count": 12,
      "outputs": [
        {
          "output_type": "stream",
          "name": "stdout",
          "text": [
            "Informe as horas de trabalho: 15\n",
            "Informe os minutos de trabalho: 45\n",
            "Informe o ganho por hora: $25\n",
            "Você trabalhou 15 horas e 45 minutos\n",
            "O seu salário é %393.75 e ganhará $275.62 de horas extras\n",
            "Então você irá receber $669.38 com o aumento de 70% pelas horas extras \n"
          ]
        }
      ]
    }
  ]
}